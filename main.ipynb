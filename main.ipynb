{
 "cells": [
  {
   "cell_type": "code",
   "execution_count": 1,
   "metadata": {
    "collapsed": true
   },
   "outputs": [],
   "source": [
    "import pandas as pd\n",
    "import numpy as np\n",
    "import matplotlib.pyplot as plt\n",
    "import seaborn as sns\n",
    "\n",
    "from scipy import stats\n",
    "from sklearn.preprocessing import StandardScaler\n",
    "from sklearn.cluster import KMeans\n",
    "\n",
    "# Disables warning messages for beauty\n",
    "import warnings\n",
    "warnings.filterwarnings(\"ignore\")"
   ]
  },
  {
   "cell_type": "code",
   "execution_count": 3,
   "outputs": [
    {
     "data": {
      "text/plain": "   code                                   code_description\n0  5944  Магазины по продаже часов, ювелирных изделий и...\n1  5621                           Готовые сумочные изделия\n2  5697       Услуги по переделке, починке и пошиву одежды\n3  7995                       Транзакции по азартным играм\n4  5137             Мужская, женская и детская спец-одежда",
      "text/html": "<div>\n<style scoped>\n    .dataframe tbody tr th:only-of-type {\n        vertical-align: middle;\n    }\n\n    .dataframe tbody tr th {\n        vertical-align: top;\n    }\n\n    .dataframe thead th {\n        text-align: right;\n    }\n</style>\n<table border=\"1\" class=\"dataframe\">\n  <thead>\n    <tr style=\"text-align: right;\">\n      <th></th>\n      <th>code</th>\n      <th>code_description</th>\n    </tr>\n  </thead>\n  <tbody>\n    <tr>\n      <th>0</th>\n      <td>5944</td>\n      <td>Магазины по продаже часов, ювелирных изделий и...</td>\n    </tr>\n    <tr>\n      <th>1</th>\n      <td>5621</td>\n      <td>Готовые сумочные изделия</td>\n    </tr>\n    <tr>\n      <th>2</th>\n      <td>5697</td>\n      <td>Услуги по переделке, починке и пошиву одежды</td>\n    </tr>\n    <tr>\n      <th>3</th>\n      <td>7995</td>\n      <td>Транзакции по азартным играм</td>\n    </tr>\n    <tr>\n      <th>4</th>\n      <td>5137</td>\n      <td>Мужская, женская и детская спец-одежда</td>\n    </tr>\n  </tbody>\n</table>\n</div>"
     },
     "execution_count": 3,
     "metadata": {},
     "output_type": "execute_result"
    }
   ],
   "source": [
    "# Importing all files as dataframes\n",
    "code_df = pd.read_csv('data/codes.csv', delimiter=';')\n",
    "transactions_df=pd.read_csv('data/transactions.csv', sep=';')\n",
    "train_df=pd.read_csv('data/train_set.csv', sep=';', encoding = \"ISO-8859-1\")\n",
    "test_df=pd.read_csv('data/test_set.csv', encoding = \"ISO-8859-1\")\n",
    "\n",
    "code_df.head()"
   ],
   "metadata": {
    "collapsed": false,
    "pycharm": {
     "name": "#%%\n"
    }
   }
  },
  {
   "cell_type": "code",
   "execution_count": 4,
   "outputs": [
    {
     "data": {
      "text/plain": "        client_id      datetime  code  type         sum\n0        96372458  421 06:33:15  6011  2010  -561478.94\n1        24567813  377 17:20:40  6011  7010    67377.47\n2        21717441   55 13:38:47  6011  2010   -44918.32\n3        14331004  263 12:57:08  6011  2010 -3368873.66\n4        85302434  151 10:34:12  4814  1030    -3368.87\n...           ...           ...   ...   ...         ...\n130034   15836839  147 11:50:53  5411  1010   -26344.59\n130035   28369355  305 11:59:34  4829  2330   -24705.07\n130036   40949707  398 21:13:58  5411  1110   -40353.72\n130037    7174462  409 13:58:14  5411  1010   -25536.06\n130038   92197764  319 00:00:00  5533  1110   -12127.95\n\n[130039 rows x 5 columns]",
      "text/html": "<div>\n<style scoped>\n    .dataframe tbody tr th:only-of-type {\n        vertical-align: middle;\n    }\n\n    .dataframe tbody tr th {\n        vertical-align: top;\n    }\n\n    .dataframe thead th {\n        text-align: right;\n    }\n</style>\n<table border=\"1\" class=\"dataframe\">\n  <thead>\n    <tr style=\"text-align: right;\">\n      <th></th>\n      <th>client_id</th>\n      <th>datetime</th>\n      <th>code</th>\n      <th>type</th>\n      <th>sum</th>\n    </tr>\n  </thead>\n  <tbody>\n    <tr>\n      <th>0</th>\n      <td>96372458</td>\n      <td>421 06:33:15</td>\n      <td>6011</td>\n      <td>2010</td>\n      <td>-561478.94</td>\n    </tr>\n    <tr>\n      <th>1</th>\n      <td>24567813</td>\n      <td>377 17:20:40</td>\n      <td>6011</td>\n      <td>7010</td>\n      <td>67377.47</td>\n    </tr>\n    <tr>\n      <th>2</th>\n      <td>21717441</td>\n      <td>55 13:38:47</td>\n      <td>6011</td>\n      <td>2010</td>\n      <td>-44918.32</td>\n    </tr>\n    <tr>\n      <th>3</th>\n      <td>14331004</td>\n      <td>263 12:57:08</td>\n      <td>6011</td>\n      <td>2010</td>\n      <td>-3368873.66</td>\n    </tr>\n    <tr>\n      <th>4</th>\n      <td>85302434</td>\n      <td>151 10:34:12</td>\n      <td>4814</td>\n      <td>1030</td>\n      <td>-3368.87</td>\n    </tr>\n    <tr>\n      <th>...</th>\n      <td>...</td>\n      <td>...</td>\n      <td>...</td>\n      <td>...</td>\n      <td>...</td>\n    </tr>\n    <tr>\n      <th>130034</th>\n      <td>15836839</td>\n      <td>147 11:50:53</td>\n      <td>5411</td>\n      <td>1010</td>\n      <td>-26344.59</td>\n    </tr>\n    <tr>\n      <th>130035</th>\n      <td>28369355</td>\n      <td>305 11:59:34</td>\n      <td>4829</td>\n      <td>2330</td>\n      <td>-24705.07</td>\n    </tr>\n    <tr>\n      <th>130036</th>\n      <td>40949707</td>\n      <td>398 21:13:58</td>\n      <td>5411</td>\n      <td>1110</td>\n      <td>-40353.72</td>\n    </tr>\n    <tr>\n      <th>130037</th>\n      <td>7174462</td>\n      <td>409 13:58:14</td>\n      <td>5411</td>\n      <td>1010</td>\n      <td>-25536.06</td>\n    </tr>\n    <tr>\n      <th>130038</th>\n      <td>92197764</td>\n      <td>319 00:00:00</td>\n      <td>5533</td>\n      <td>1110</td>\n      <td>-12127.95</td>\n    </tr>\n  </tbody>\n</table>\n<p>130039 rows × 5 columns</p>\n</div>"
     },
     "execution_count": 4,
     "metadata": {},
     "output_type": "execute_result"
    }
   ],
   "source": [
    "transactions_df"
   ],
   "metadata": {
    "collapsed": false,
    "pycharm": {
     "name": "#%%\n"
    }
   }
  },
  {
   "cell_type": "code",
   "execution_count": 5,
   "outputs": [],
   "source": [
    "X_train=transactions_df[transactions_df.client_id.isin(train_df.client_id)]\n",
    "X_test=transactions_df[transactions_df.client_id.isin(test_df.client_id)]"
   ],
   "metadata": {
    "collapsed": false,
    "pycharm": {
     "name": "#%%\n"
    }
   }
  }
 ],
 "metadata": {
  "kernelspec": {
   "display_name": "Python 3",
   "language": "python",
   "name": "python3"
  },
  "language_info": {
   "codemirror_mode": {
    "name": "ipython",
    "version": 2
   },
   "file_extension": ".py",
   "mimetype": "text/x-python",
   "name": "python",
   "nbconvert_exporter": "python",
   "pygments_lexer": "ipython2",
   "version": "2.7.6"
  }
 },
 "nbformat": 4,
 "nbformat_minor": 0
}