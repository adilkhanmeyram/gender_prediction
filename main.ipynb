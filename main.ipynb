{
 "cells": [
  {
   "cell_type": "code",
   "execution_count": 1,
   "metadata": {
    "collapsed": true
   },
   "outputs": [],
   "source": [
    "import pandas as pd\n",
    "import numpy as np"
   ]
  },
  {
   "cell_type": "code",
   "execution_count": 3,
   "outputs": [
    {
     "data": {
      "text/plain": "   code                                   code_description\n0  5944  Магазины по продаже часов, ювелирных изделий и...\n1  5621                           Готовые сумочные изделия\n2  5697       Услуги по переделке, починке и пошиву одежды\n3  7995                       Транзакции по азартным играм\n4  5137             Мужская, женская и детская спец-одежда",
      "text/html": "<div>\n<style scoped>\n    .dataframe tbody tr th:only-of-type {\n        vertical-align: middle;\n    }\n\n    .dataframe tbody tr th {\n        vertical-align: top;\n    }\n\n    .dataframe thead th {\n        text-align: right;\n    }\n</style>\n<table border=\"1\" class=\"dataframe\">\n  <thead>\n    <tr style=\"text-align: right;\">\n      <th></th>\n      <th>code</th>\n      <th>code_description</th>\n    </tr>\n  </thead>\n  <tbody>\n    <tr>\n      <th>0</th>\n      <td>5944</td>\n      <td>Магазины по продаже часов, ювелирных изделий и...</td>\n    </tr>\n    <tr>\n      <th>1</th>\n      <td>5621</td>\n      <td>Готовые сумочные изделия</td>\n    </tr>\n    <tr>\n      <th>2</th>\n      <td>5697</td>\n      <td>Услуги по переделке, починке и пошиву одежды</td>\n    </tr>\n    <tr>\n      <th>3</th>\n      <td>7995</td>\n      <td>Транзакции по азартным играм</td>\n    </tr>\n    <tr>\n      <th>4</th>\n      <td>5137</td>\n      <td>Мужская, женская и детская спец-одежда</td>\n    </tr>\n  </tbody>\n</table>\n</div>"
     },
     "execution_count": 3,
     "metadata": {},
     "output_type": "execute_result"
    }
   ],
   "source": [
    "df = pd.read_csv('data/codes.csv', delimiter=';')\n",
    "df.head()"
   ],
   "metadata": {
    "collapsed": false,
    "pycharm": {
     "name": "#%%\n"
    }
   }
  }
 ],
 "metadata": {
  "kernelspec": {
   "display_name": "Python 3",
   "language": "python",
   "name": "python3"
  },
  "language_info": {
   "codemirror_mode": {
    "name": "ipython",
    "version": 2
   },
   "file_extension": ".py",
   "mimetype": "text/x-python",
   "name": "python",
   "nbconvert_exporter": "python",
   "pygments_lexer": "ipython2",
   "version": "2.7.6"
  }
 },
 "nbformat": 4,
 "nbformat_minor": 0
}